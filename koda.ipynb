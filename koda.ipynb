{
 "cells": [
  {
   "cell_type": "code",
   "execution_count": 2,
   "metadata": {
    "collapsed": false
   },
   "outputs": [
    {
     "name": "stdout",
     "output_type": "stream",
     "text": [
      "Uspešno nastavljene nastavitve\n"
     ]
    },
    {
     "data": {
      "image/png": "[encoded data removed]",
      "text/plain": [
       "<Figure size 432x288 with 1 Axes>"
      ]
     },
     "execution_count": 2,
     "metadata": {
      "needs_background": "light"
     },
     "output_type": "execute_result"
    }
   ],
   "source": [
    "# Nastavitve programa (potem vse ostalo sam izračuna)\n",
    "# Tukaj nastavimo število točk in omejitve za x in y\n",
    "n = 60\n",
    "x_min = 0\n",
    "x_max = 10\n",
    "y_min = 0\n",
    "y_max = 10\n",
    "\n",
    "if n <= 0:\n",
    "    print(\"Napaka: število kvadratov mora biti pozitivno\")\n",
    "elif x_min >= x_max or y_min >= y_max:\n",
    "    print(\"Napaka: napačno nastavljeni parametri\")\n",
    "else:\n",
    "    print(\"Uspešno nastavljene nastavitve\")\n",
    "\n",
    "import random\n",
    "from matplotlib.pyplot import plot, axis, show,axes\n",
    "import matplotlib.pyplot as plt\n",
    "\n",
    "def nakljucne_tocke(x_min, x_max, y_min, y_max, n):\n",
    "    #nam da seznam n točk v koordinatnem sistemu na intervalu [x_min,x_max]x[y_min,y_max]\n",
    "    rangeX = (x_min, x_max-1)\n",
    "    rangeY = (y_min, y_max-1)\n",
    "    tocke = []\n",
    "    i = 0\n",
    "    while i<n:\n",
    "        x = random.uniform(*rangeX) \n",
    "        y = random.uniform(*rangeY)\n",
    "        tocke.append([x,y])\n",
    "        i += 1\n",
    "    return tocke\n",
    "\n",
    "\n",
    "seznam_tock = nakljucne_tocke(x_min, x_max, y_min, y_max, n) #seznam tock iz katerih generiramo kvadrate\n",
    "\n",
    "def generiranje_kvadrata(tocka): # tocka je seznam [ , ]\n",
    "    #generira še druge tri vogale kvadrata in jih poveze, da to nariše potrebujem za ukazom plt.show()\n",
    "    x0 = tocka[0]\n",
    "    y0 = tocka[1]\n",
    "    x1 = x0 + 1\n",
    "    x2 = x1\n",
    "    x3 = x0\n",
    "    y1 = y0\n",
    "    y2 = y0 + 1\n",
    "    y3 = y2\n",
    "    return plot([x0, x1, x2, x3, x0], [y0, y1, y2, y3, y0])\n",
    "\n",
    "seznam_slik = []\n",
    "for i in range(0,len(seznam_tock)):\n",
    "    tocka = seznam_tock[i]\n",
    "    seznam_slik.append(generiranje_kvadrata(tocka))\n",
    "\n",
    "for slika in seznam_slik:    #to pokaže koncno sliko vseh mojih enotskih kvadratov\n",
    "     plt.plot()\n",
    "plt.show()"
   ]
  },
  {
   "cell_type": "code",
   "execution_count": 3,
   "metadata": {
    "collapsed": false
   },
   "outputs": [
    {
     "data": {
      "text/plain": [
       "[5.0, (9.264358087226611, 6.275941115149412), [12, 20, 22, 45, 51]]"
      ]
     },
     "execution_count": 3,
     "metadata": {
     },
     "output_type": "execute_result"
    }
   ],
   "source": [
    "def koordinate_kvadrata(tocka):\n",
    "    # kot izhodni podatek nam vrne seznam koordinate enega kvadrata\n",
    "    x0 = tocka[0]\n",
    "    y0 = tocka[1]\n",
    "    x1 = x0 + 1\n",
    "    x2 = x1\n",
    "    x3 = x0\n",
    "    y1 = y0\n",
    "    y2 = y0 + 1\n",
    "    y3 = y2\n",
    "    return [[x0,y0], [x1,y1], [x2,y2], [x3,y3]]\n",
    "\n",
    "seznam_kvadratov = []   #seznam kvadratov oz. tock, ki generirajo prej narisane kvadrate\n",
    "for i in seznam_tock:\n",
    "    seznam_kvadratov.append(koordinate_kvadrata(i))\n",
    "\n",
    "def najvecje_dotikanje(seznam_tock):# kot vhod dobiva seznam spodnjih levih oglišč\n",
    "    # funkcija, ki reši CLP za iskanje točke, ki se dotika največ kvadratov\n",
    "    n = len(seznam_tock) # n je število kvadratov\n",
    "    x_min = min(x for x, y in seznam_tock)\n",
    "    x_max = max(x for x, y in seznam_tock)\n",
    "    y_min = min(y for x, y in seznam_tock)\n",
    "    y_max = max(y for x, y in seznam_tock)\n",
    "\n",
    "    p = MixedIntegerLinearProgram(maximization=True) # iščeva točko, ki se dotika največ kvadratov\n",
    "    z = p.new_variable(binary=True) #z_i = 1 če tocka (x,y) v kvadratu i\n",
    "    p.set_objective(sum(z[i] for i in range(n))) # številčenje naj gre kar od 0 do n-1\n",
    "    for i, (x_i, y_i) in enumerate(seznam_tock): # za realni spremenljivki x, y indeksiramo kar p\n",
    "        p.add_constraint(p['x'] + (1-z[i])*(x_max - x_min) >= x_i)   #pogoj za CLP\n",
    "        p.add_constraint(p['x'] - (1-z[i])*(x_max - x_min) <= x_i + 1)   #pogoj za CLP\n",
    "        p.add_constraint(p['y'] + (1-z[i])*(y_max - y_min) >= y_i)    #pogoj za CLP\n",
    "        p.add_constraint(p['y'] - (1-z[i])*(y_max - y_min) <= y_i + 1)    #pogoj za CLP\n",
    "\n",
    "    stevilo = p.solve()\n",
    "    x, y = p.get_values(p['x']), p.get_values(p['y'])\n",
    "    kvadrati = [k for k, v in p.get_values(z).items() if v == 1]\n",
    "    return [stevilo, (x, y), kvadrati] # vrnemo število dotikanj, koordinato točke in seznam indeksov kvadratov, ki se jih dotika\n",
    "\n",
    "najvecje_dotikanje(seznam_tock)\n",
    "\n",
    "#seznam_kvadratov\n",
    "#kvadrati = najvecje_dotikanje(seznam_tock)[2]\n",
    "#for i in kvadrati:\n",
    "#    print(seznam_kvadratov[i])"
   ]
  },
  {
   "cell_type": "code",
   "execution_count": 1,
   "metadata": {
    "collapsed": false
   },
   "outputs": [
   ],
   "source": [
    "import time\n",
    "#kako se spreminja čas izvajanja v odvisnosti od n (to je število izbranih točk oz kvadratov) in velikosti mreže (povečevali bomo y_max)\n",
    "def cas_izvajanja(x_min, x_max, y_min, y_max ,n):\n",
    "    seznam_tock = nakljucne_tocke(x_min, x_max, y_min, y_max, n)\n",
    "    casi = []\n",
    "    for i in range(1,n+1):\n",
    "        zacetek = time.time()\n",
    "        najvecje_dotikanje(seznam_tock)\n",
    "        konec = time.time() - zacetek\n",
    "        casi.append((konec))\n",
    "    return casi\n",
    "#casi v odvisnosti od n\n",
    "#cas_izvajanja(0,10,0,10,30)\n",
    "#cas_izvajanja(0,10,0,10,40)\n",
    "#cas_izvajanja(0,10,0,10,50)\n",
    "#cas_izvajanja(0,10,0,10,60)\n",
    "#cas_izvajanja(0,10,0,10,70)\n",
    "#cas_izvajanja(0,10,0,10,80)\n",
    "#cas_izvajanja(0,10,0,10,90)\n",
    "#cas_izvajanja(0,10,0,10,100)\n",
    "\n",
    "#casi v odvisnosti od y_max\n",
    "#cas_izvajanja(0,10,0,10,100)\n",
    "#cas_izvajanja(0,10,0,20,100)\n",
    "#cas_izvajanja(0,10,0,30,100)\n",
    "#cas_izvajanja(0,10,0,40,100)\n",
    "#cas_izvajanja(0,10,0,50,100)\n",
    "#cas_izvajanja(0,10,0,60,100)\n",
    "#cas_izvajanja(0,10,0,70,100)\n",
    "#cas_izvajanja(0,10,0,80,100)\n",
    "#cas_izvajanja(0,10,0,90,100)\n",
    "#cas_izvajanja(0,10,0,100,100)"
   ]
  },
  {
   "cell_type": "code",
   "execution_count": 5,
   "metadata": {
    "collapsed": false
   },
   "outputs": [
    {
     "data": {
      "text/plain": [
       "[18.0,\n",
       " (0.8692548123233682, 1.559674710648847),\n",
       " [0, 2, 8, 10, 13, 15, 18, 19, 28, 31, 36, 39, 40, 41, 42, 44, 47, 49]]"
      ]
     },
     "execution_count": 5,
     "metadata": {
     },
     "output_type": "execute_result"
    }
   ],
   "source": [
    "def p_max_in_p_min(x_min, x_max, y_min, y_max):\n",
    "    # funcija katere izhodna podatka sta maksimalna in minimalna vrednost izmed vseh možnih k in m, ki jih lahko dosežemo\n",
    "    oglisca = [(0, 0), (0, 1), (1, 0), (1, 1)]\n",
    "    seznam = []\n",
    "    for i, (x_i, y_i) in enumerate(seznam_tock): # izbira prvega kvadrata\n",
    "        for x_j, y_j in seznam_tock[i+1:]: # izbira drugega kvadrata - brez ponovitev\n",
    "            for w_i, z_i in oglisca: # izbira oglišča prvega kvadrata\n",
    "                for w_j, z_j in oglisca: # izbira oglišča drugega kvadrata\n",
    "                    k = ((y_j+z_j) - (y_i+z_i)) / ((x_j+w_j) - (x_i+w_i))\n",
    "                    m = y_i+z_i - k * (x_i+w_i)\n",
    "                    for x in (x_min, x_max+1): # vrednosti x, kjer premica doseže največjo in najmanjšo vrednost y\n",
    "                        seznam.append(k*x + m)\n",
    "    p_min = min(seznam)\n",
    "    p_max = max(seznam)\n",
    "    return [p_min, p_max]\n",
    "\n",
    "p_min = p_max_in_p_min(x_min, x_max, y_min, y_max)[0]\n",
    "p_max = p_max_in_p_min(x_min, x_max, y_min, y_max)[1]\n",
    "\n",
    "def najvecje_dotikanjepremica(seznam_tock, p_max, p_min): # kot vhod dobita seznam spodnjih levih oglišč\n",
    "    # funkcija, ki reši CLP za iskanje premice, ki se dotika največ kvadratov\n",
    "    n = len(seznam_tock) # n je stevilo kvadratov \n",
    "    x_min = min(x for x, y in seznam_tock)\n",
    "    x_max = max(x for x, y in seznam_tock)\n",
    "    y_min = min(y for x, y in seznam_tock)\n",
    "    y_max = max(y for x, y in seznam_tock)\n",
    "    \n",
    "    p = MixedIntegerLinearProgram(maximization=True) # iščeva točko, ki se dotika največ kvadratov\n",
    "    z = p.new_variable(binary=True) #z_i = 1, če tocka (x,y) v kvadratu i\n",
    "    u = p.new_variable(binary=True) #u_i = 1, če premica y = kx + m seka kvadrat i, tako, da je njegovo levo zgornje oglišče nad premico, desno spodnje ogljišče pa pod njo\n",
    "    v = p.new_variable(binary=True) #v_i = 1, če premica y = kx + m seka kvadrat i,  tako, da je njegovo levo spodnje oglišče pod premico, desno zgornje ogljišče pa nad njo\n",
    "    p.set_objective(sum(z[i] for i in range(n))) # številčenje od 0 do n-1\n",
    "    for i, (x_i, y_i) in enumerate(seznam_tock): # za realni spremenljivki x, y indeksiramo kar p\n",
    "        p.add_constraint(z[i] <= u[i]+v[i])    #pogoj za CLP\n",
    "        p.add_constraint(p['k']*(x_i+1) + p['m'] + (1-u[i])*(y_max - p_min) >= y_i)    #pogoj za CLP\n",
    "        p.add_constraint(p['k']*x_i + p['m'] - (1-u[i])*(p_max - y_min) <= y_i + 1)    #pogoj za CLP\n",
    "        p.add_constraint(p['k']*x_i + p['m'] + (1-v[i])*(y_max - p_min) >= y_i)    #pogoj za CLP\n",
    "        p.add_constraint(p['k']*(x_i+1) + p['m'] - (1-v[i])*(p_max - y_min) <= y_i + 1)    #pogoj za CLP\n",
    "\n",
    "    stevilo = p.solve() #resis sistem\n",
    "    k, m = p.get_values(p['k']), p.get_values(p['m']) #vrednosti, kjer dosezes max od vsote z_i\n",
    "    kvadrati = [k for k, v in p.get_values(z).items() if v == 1]\n",
    "    return [stevilo, (k, m), kvadrati] # vrnemo število dotikanj, koeficient in zacetno vrednost premice in seznam indeksov kvadratov, ki se jih premica dotika\n",
    "\n",
    "najvecje_dotikanjepremica(seznam_tock,p_max,p_min)"
   ]
  },
  {
   "cell_type": "code",
   "execution_count": 6,
   "metadata": {
    "collapsed": false
   },
   "outputs": [
    {
     "data": {
      "image/png": "[encoded data removed]",
      "text/plain": [
       "<Figure size 432x288 with 1 Axes>"
      ]
     },
     "execution_count": 6,
     "metadata": {
      "needs_background": "light"
     },
     "output_type": "execute_result"
    }
   ],
   "source": [
    "seznam_slik = []\n",
    "for i in range(0,len(seznam_tock)):\n",
    "    tocka = seznam_tock[i]\n",
    "    seznam_slik.append(generiranje_kvadrata(tocka))\n",
    "\n",
    "for slika in seznam_slik:    #to pokaže končno sliko vseh zgenereranih enotskih kvadratov(Spet ista kot tista spodaj za boljšo preglednost)\n",
    "     plt.plot()\n",
    "plt.show()"
   ]
  },
  {
   "cell_type": "code",
   "execution_count": 0,
   "metadata": {
    "collapsed": false
   },
   "outputs": [
   ],
   "source": [
    "import time\n",
    "#kako se spreminja čas izvajanja CLP premice v odvisnosti od n (to je število izbranih točk oz kvadratov)\n",
    "def cas_izvajanja_premica(x_min, x_max, y_min, y_max ,n):\n",
    "    seznam_tock = nakljucne_tocke(x_min, x_max, y_min, y_max, n)\n",
    "    p_min = p_max_in_p_min(x_min, x_max, y_min, y_max)[0]\n",
    "    p_max = p_max_in_p_min(x_min, x_max, y_min, y_max)[1]\n",
    "    casi = []\n",
    "    for i in range(1,n+1):\n",
    "        zacetek = time.time() \n",
    "        najvecje_dotikanjepremica(seznam_tock,p_max,p_min)\n",
    "        konec = time.time() - zacetek\n",
    "        casi.append((konec))\n",
    "    return casi\n",
    "#casi v odvisnosti od n\n",
    "#pognala sva:\n",
    "#cas_izvajanja_premica(0,10,0,10,10)\n",
    "#cas_izvajanja_premica(0,10,0,10,20)\n",
    "#cas_izvajanja_premica(0,10,0,10,30)\n",
    "#cas_izvajanja_premica(0,10,0,10,40)"
   ]
  }
 ],
 "metadata": {
  "kernelspec": {
   "display_name": "SageMath 9.4",
   "language": "sagemath",
   "metadata": {
    "cocalc": {
     "description": "Open-source mathematical software system",
     "priority": 10,
     "url": "https://www.sagemath.org/"
    }
   },
   "name": "sage-9.4",
   "resource_dir": "/ext/jupyter/kernels/sage-9.4"
  },
  "language_info": {
   "codemirror_mode": {
    "name": "ipython",
    "version": 3
   },
   "file_extension": ".py",
   "mimetype": "text/x-python",
   "name": "python",
   "nbconvert_exporter": "python",
   "pygments_lexer": "ipython3",
   "version": "3.9.5"
  }
 },
 "nbformat": 4,
 "nbformat_minor": 4
}