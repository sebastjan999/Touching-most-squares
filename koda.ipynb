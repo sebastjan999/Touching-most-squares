{
 "cells": [
  {
   "cell_type": "code",
   "execution_count": 2,
   "metadata": {
    "collapsed": false
   },
   "outputs": [
    {
     "name": "stdout",
     "output_type": "stream",
     "text": [
      "Uspešno nastavljene nastavitve\n"
     ]
    },
    {
     "data": {
      "image/png": "[encoded data removed]",
      "text/plain": [
       "<Figure size 432x288 with 1 Axes>"
      ]
     },
     "execution_count": 2,
     "metadata": {
      "needs_background": "light"
     },
     "output_type": "execute_result"
    },
    {
     "data": {
      "text/plain": [
       "[4.0, (7.353627373541062, 7.814283361455649), [28, 36, 42, 53]]"
      ]
     },
     "execution_count": 2,
     "metadata": {},
     "output_type": "execute_result"
    }
   ],
   "source": [
    "# Nastavitve programa (potem vse ostalo sam izračuna)\n",
    "# Tukaj nastavimo število točk in omejitve za x in y\n",
    "\n",
    "n = 60\n",
    "x_min = 0\n",
    "x_max = 10\n",
    "y_min = 0\n",
    "y_max = 10\n",
    "\n",
    "if n <= 0:\n",
    "    print(\"Napaka: število kvadratov mora biti pozitivno\")\n",
    "elif x_min >= x_max or y_min >= y_max:\n",
    "    print(\"Napaka: napačno nastavljeni parametri\")\n",
    "else:\n",
    "    print(\"Uspešno nastavljene nastavitve\")\n",
    "\n",
    "###################################################\n",
    "\n",
    "import random\n",
    "from matplotlib.pyplot import plot, axis, show,axes\n",
    "import matplotlib.pyplot as plt\n",
    "\n",
    "def nakljucne_tocke(x_min, x_max, y_min, y_max, n):\n",
    "    #Da seznam n točk v koordinatnem sistemu na intervalu [x_min,x_max]x[y_min,y_max]\n",
    "    rangeX = (x_min, x_max-1)\n",
    "    rangeY = (y_min, y_max-1)\n",
    "    points = []\n",
    "    i = 0\n",
    "    while i<n:\n",
    "        x = random.uniform(*rangeX) \n",
    "        y = random.uniform(*rangeY)\n",
    "        points.append([x,y])\n",
    "        i += 1\n",
    "    return points\n",
    "\n",
    "\n",
    "seznam_tock = nakljucne_tocke(x_min, x_max, y_min, y_max, n)\n",
    "\n",
    "def generiranje_kvadrata(tocka): # tocka je seznam [ , ]\n",
    "    #generira še druge tri vogale kvadrata in jih poveže, da to nariše potrebujemo  ukaz plt.show()\n",
    "    x0 = tocka[0]\n",
    "    y0 = tocka[1]\n",
    "    x1 = x0 + 1\n",
    "    x2 = x1\n",
    "    x3 = x0\n",
    "    y1 = y0\n",
    "    y2 = y0 + 1\n",
    "    y3 = y2\n",
    "    return plot([x0, x1, x2, x3, x0], [y0, y1, y2, y3, y0])\n",
    "\n",
    "seznam_slik = []\n",
    "for i in range(0,len(seznam_tock)):\n",
    "    tocka = seznam_tock[i]\n",
    "    seznam_slik.append(generiranje_kvadrata(tocka))\n",
    "\n",
    "for slika in seznam_slik:    #to pokaže končno sliko vseh zgenereranih enotskih kvadratov\n",
    "     plt.plot()\n",
    "plt.show()\n",
    "\n",
    "def koordinate_kvadrata(tocka):\n",
    "    x0 = tocka[0]\n",
    "    y0 = tocka[1]\n",
    "    x1 = x0 + 1\n",
    "    x2 = x1\n",
    "    x3 = x0\n",
    "    y1 = y0\n",
    "    y2 = y0 + 1\n",
    "    y3 = y2\n",
    "    return [[x0,y0], [x1,y1], [x2,y2], [x3,y3]]\n",
    "\n",
    "seznam_kvadratov = []   #seznam kvadratov oz. točk, ki generirajo prej narisane kvadrate\n",
    "for i in seznam_tock:\n",
    "    seznam_kvadratov.append(koordinate_kvadrata(i))\n",
    "\n",
    "\n",
    "def najvecje_dotikanje(seznam_tock): # kot vhod dobiva seznam spodnjih levih oglišč\n",
    "    n = len(seznam_tock)\n",
    "    x_min = min(x for x, y in seznam_tock)\n",
    "    x_max = max(x for x, y in seznam_tock)\n",
    "    y_min = min(y for x, y in seznam_tock)\n",
    "    y_max = max(y for x, y in seznam_tock)\n",
    "\n",
    "    p = MixedIntegerLinearProgram(maximization=True) # iščeva točko, ki se dotika največ kvadratov\n",
    "    z = p.new_variable(binary=True) #z_i = 1 če tocka (x,y) v kvadratu i\n",
    "    p.set_objective(sum(z[i] for i in range(n))) # številčenje naj gre kar od 0 do n-1\n",
    "    for i, (x_i, y_i) in enumerate(seznam_tock): # za realni spremenljivki x, y indeksiramo kar p\n",
    "        p.add_constraint(p['x'] + (1-z[i])*(x_max - x_min) >= x_i)\n",
    "        p.add_constraint(p['x'] - (1-z[i])*(x_max - x_min) <= x_i + 1)\n",
    "        p.add_constraint(p['y'] + (1-z[i])*(y_max - y_min) >= y_i)\n",
    "        p.add_constraint(p['y'] - (1-z[i])*(y_max - y_min) <= y_i + 1)\n",
    "\n",
    "    stevilo = p.solve()\n",
    "    x, y = p.get_values(p['x']), p.get_values(p['y'])\n",
    "    kvadrati = [k for k, v in p.get_values(z).items() if v == 1]\n",
    "    return [stevilo, (x, y), kvadrati] # vrnemo število dotikanj, koordinato točke in seznam indeksov kvadratov, ki se jih dotika\n",
    "\n",
    "najvecje_dotikanje(seznam_tock)"
   ]
  },
  {
   "cell_type": "code",
   "execution_count": 3,
   "metadata": {
    "collapsed": false
   },
   "outputs": [
    {
     "name": "stdout",
     "output_type": "stream",
     "text": [
      "[[7.353627373541062, 7.632965066053715], [8.353627373541062, 7.632965066053715], [8.353627373541062, 8.632965066053714], [7.353627373541062, 8.632965066053714]]\n",
      "[[6.741015107338067, 7.09998750401903], [7.741015107338067, 7.09998750401903], [7.741015107338067, 8.09998750401903], [6.741015107338067, 8.09998750401903]]\n",
      "[[6.683834844851964, 6.825709841053561], [7.683834844851964, 6.825709841053561], [7.683834844851964, 7.825709841053561], [6.683834844851964, 7.825709841053561]]\n",
      "[[6.941917421925008, 7.814283361455649], [7.941917421925008, 7.814283361455649], [7.941917421925008, 8.814283361455649], [6.941917421925008, 8.814283361455649]]\n"
     ]
    }
   ],
   "source": [
    "seznam_kvadratov\n",
    "kvadrati = najvecje_dotikanje(seznam_tock)[2]\n",
    "for i in kvadrati:\n",
    "    print(seznam_kvadratov[i])\n"
   ]
  },
  {
   "cell_type": "code",
   "execution_count": 4,
   "metadata": {
    "collapsed": false
   },
   "outputs": [
    {
     "data": {
      "text/plain": [
       "[0.1944258213043213,\n",
       " 0.19773077964782715,\n",
       " 0.18850278854370117,\n",
       " 0.2082657814025879,\n",
       " 0.21149682998657227,\n",
       " 0.2630784511566162,\n",
       " 0.20211410522460938,\n",
       " 0.2188093662261963,\n",
       " 0.2037031650543213,\n",
       " 0.274918794631958,\n",
       " 0.21378111839294434,\n",
       " 0.22560834884643555,\n",
       " 0.2601745128631592,\n",
       " 0.22177362442016602,\n",
       " 0.20780134201049805,\n",
       " 0.21086740493774414,\n",
       " 0.2890787124633789,\n",
       " 0.20248699188232422,\n",
       " 0.19458341598510742,\n",
       " 0.19359159469604492,\n",
       " 0.2029271125793457,\n",
       " 0.21077251434326172,\n",
       " 0.20066547393798828,\n",
       " 0.594613790512085,\n",
       " 0.1888258457183838,\n",
       " 0.1973893642425537,\n",
       " 0.20308184623718262,\n",
       " 0.19696354866027832,\n",
       " 0.21277379989624023,\n",
       " 0.1902170181274414,\n",
       " 0.21113801002502441,\n",
       " 0.21542954444885254,\n",
       " 0.19117522239685059,\n",
       " 0.18896722793579102,\n",
       " 0.2800865173339844,\n",
       " 0.1409144401550293,\n",
       " 0.18710589408874512,\n",
       " 0.19000458717346191,\n",
       " 0.19752216339111328,\n",
       " 0.19028830528259277,\n",
       " 0.203383207321167,\n",
       " 0.21466994285583496,\n",
       " 0.2072594165802002,\n",
       " 0.19684624671936035,\n",
       " 0.18654942512512207,\n",
       " 0.20435523986816406,\n",
       " 0.19208860397338867,\n",
       " 0.20251870155334473,\n",
       " 0.19700002670288086,\n",
       " 0.6792480945587158,\n",
       " 0.21613740921020508,\n",
       " 0.20583510398864746,\n",
       " 0.19181275367736816,\n",
       " 0.21318578720092773,\n",
       " 0.19496703147888184,\n",
       " 0.2026529312133789,\n",
       " 0.2043769359588623,\n",
       " 0.20980095863342285,\n",
       " 0.19287991523742676,\n",
       " 0.20789170265197754,\n",
       " 0.279160737991333,\n",
       " 0.1899399757385254,\n",
       " 0.20234942436218262,\n",
       " 0.2063431739807129,\n",
       " 0.1929185390472412,\n",
       " 0.19479703903198242,\n",
       " 0.19923853874206543,\n",
       " 0.1433422565460205,\n",
       " 0.25350141525268555,\n",
       " 0.21484017372131348,\n",
       " 0.1967155933380127,\n",
       " 0.18531441688537598,\n",
       " 0.1981058120727539,\n",
       " 0.20696759223937988,\n",
       " 0.13843727111816406,\n",
       " 0.19791841506958008,\n",
       " 0.19928598403930664,\n",
       " 0.1977066993713379,\n",
       " 0.2747931480407715,\n",
       " 0.19466233253479004,\n",
       " 0.20702457427978516,\n",
       " 0.19533658027648926,\n",
       " 0.20273303985595703,\n",
       " 0.3131849765777588,\n",
       " 0.22069454193115234,\n",
       " 0.26514410972595215,\n",
       " 0.2231004238128662,\n",
       " 0.2619481086730957,\n",
       " 0.2326650619506836,\n",
       " 0.21063828468322754,\n",
       " 0.19345855712890625,\n",
       " 0.21635723114013672,\n",
       " 0.20067262649536133,\n",
       " 0.2678968906402588,\n",
       " 0.21715474128723145,\n",
       " 0.20380949974060059,\n",
       " 0.20765018463134766,\n",
       " 0.27156734466552734,\n",
       " 0.23461437225341797,\n",
       " 0.27156615257263184]"
      ]
     },
     "execution_count": 4,
     "metadata": {},
     "output_type": "execute_result"
    }
   ],
   "source": [
    "import time\n",
    "#kako se spreminja čas izvajanja v odvisnosti od n (to je število izbranih točk oz kvadratov)\n",
    "def cas_izvajanja_od_n(x_min, x_max, y_min, y_max ,n):\n",
    "    seznam_tock = nakljucne_tocke(x_min, x_max, y_min, y_max, n)\n",
    "    casi = []\n",
    "    for i in range(1,n+1):\n",
    "        zacetek = time.time()\n",
    "        najvecje_dotikanje(seznam_tock)\n",
    "        konec = time.time() - zacetek\n",
    "        casi.append((konec))\n",
    "    return casi\n",
    "cas_izvajanja_od_n(0,10,0,10,60)\n",
    "cas_izvajanja_od_n(0,10,0,50,60)\n",
    "cas_izvajanja_od_n(0,10,0,10,100)"
   ]
  },
  {
   "cell_type": "code",
   "execution_count": 7,
   "metadata": {
    "collapsed": false
   },
   "outputs": [
    {
     "data": {
      "text/plain": [
       "[19.0,\n",
       " (1.0013530756317162, 0.25161876271774536),\n",
       " [4, 11, 13, 14, 19, 23, 24, 27, 28, 36, 39, 40, 42, 45, 47, 50, 51, 53, 55]]"
      ]
     },
     "execution_count": 7,
     "metadata": {},
     "output_type": "execute_result"
    }
   ],
   "source": [
    "def p_max(x_min, x_max, y_min, y_max):\n",
    "    seznam = []\n",
    "    for k in range(-1000, y_max + 1001):\n",
    "        for m in range(-1000, y_max + 1001):\n",
    "            y = k*(x_max + 1) + m\n",
    "            seznam.append(y)\n",
    "    return max(seznam)\n",
    "p_max = p_max(x_min, x_max, y_min, y_max)\n",
    "\n",
    "def najvecje_dotikanjepremica(seznam_tock, p_max): # kot vhod dobiva seznam spodnjih levih oglišč\n",
    "    #n = len(seznam_tock)\n",
    "    #x_min = min(x for x, y in seznam_tock)\n",
    "    #x_max = max(x for x, y in seznam_tock)\n",
    "    #y_min = min(y for x, y in seznam_tock)\n",
    "    #y_max = max(y for x, y in seznam_tock)\n",
    "\n",
    "\n",
    "    p = MixedIntegerLinearProgram(maximization=True) # iščeva točko, ki se dotika največ kvadratov\n",
    "    z = p.new_variable(binary=True) #z_i = 1 če tocka (x,y) v kvadratu i\n",
    "    u = p.new_variable(binary=True)\n",
    "    v = p.new_variable(binary=True)\n",
    "    p.set_objective(sum(z[i] for i in range(n))) # številčenje naj gre kar od 0 do n-1\n",
    "    for i, (x_i, y_i) in enumerate(seznam_tock): # za realni spremenljivki x, y indeksiramo kar p\n",
    "        p.add_constraint(z[i] <= u[i]+v[i])\n",
    "        p.add_constraint(p['k']*(x_i+1) + p['m'] + (1-u[i])*(p_max - y_min) >= y_i)\n",
    "        p.add_constraint(p['k']*x_i + p['m'] - (1-u[i])*(p_max - y_min) <= y_i + 1)\n",
    "        p.add_constraint(p['k']*x_i + p['m'] + (1-v[i])*(p_max - y_min) >= y_i)\n",
    "        p.add_constraint(p['k']*(x_i+1) + p['m'] - (1-v[i])*(p_max - y_min) <= y_i + 1)\n",
    "\n",
    "    stevilo = p.solve()\n",
    "    k, m = p.get_values(p['k']), p.get_values(p['m'])\n",
    "    kvadrati = [k for k, v in p.get_values(z).items() if v == 1]\n",
    "    return [stevilo, (k, m), kvadrati] # vrnemo število dotikanj, koordinato točke in seznam indeksov kvadratov, ki se jih dotika\n",
    "\n",
    "najvecje_dotikanjepremica(seznam_tock,p_max)"
   ]
  },
  {
   "cell_type": "code",
   "execution_count": 9,
   "metadata": {
    "collapsed": false
   },
   "outputs": [
    {
     "data": {
      "image/png": "[encoded data removed]",
      "text/plain": [
       "<Figure size 432x288 with 1 Axes>"
      ]
     },
     "execution_count": 9,
     "metadata": {
      "needs_background": "light"
     },
     "output_type": "execute_result"
    }
   ],
   "source": [
    "seznam_slik = []\n",
    "for i in range(0,len(seznam_tock)):\n",
    "    tocka = seznam_tock[i]\n",
    "    seznam_slik.append(generiranje_kvadrata(tocka))\n",
    "\n",
    "for slika in seznam_slik:    #to pokaže končno sliko vseh zgenereranih enotskih kvadratov\n",
    "     plt.plot()\n",
    "plt.show()"
   ]
  },
  {
   "cell_type": "code",
   "execution_count": null,
   "metadata": {
    "collapsed": false
   },
   "outputs": [],
   "source": []
  }
 ],
 "metadata": {
  "kernelspec": {
   "display_name": "SageMath 9.4",
   "language": "sagemath",
   "metadata": {
    "cocalc": {
     "description": "Open-source mathematical software system",
     "priority": 10,
     "url": "https://www.sagemath.org/"
    }
   },
   "name": "sage-9.4",
   "resource_dir": "/ext/jupyter/kernels/sage-9.4"
  },
  "language_info": {
   "codemirror_mode": {
    "name": "ipython",
    "version": 3
   },
   "file_extension": ".py",
   "mimetype": "text/x-python",
   "name": "python",
   "nbconvert_exporter": "python",
   "pygments_lexer": "ipython3",
   "version": "3.9.5"
  }
 },
 "nbformat": 4,
 "nbformat_minor": 4
}
